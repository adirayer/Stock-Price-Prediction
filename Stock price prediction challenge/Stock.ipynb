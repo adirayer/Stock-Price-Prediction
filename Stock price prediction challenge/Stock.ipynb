{
 "cells": [
  {
   "cell_type": "code",
   "execution_count": 85,
   "metadata": {},
   "outputs": [],
   "source": [
    "import numpy as np\n",
    "import pandas as pd\n",
    "import matplotlib.pyplot as plt\n",
    "from keras.layers import *\n",
    "from keras.models import Sequential\n",
    "from sklearn.preprocessing import MinMaxScaler"
   ]
  },
  {
   "cell_type": "code",
   "execution_count": 4,
   "metadata": {},
   "outputs": [],
   "source": [
    "XT=pd.read_csv(\"x_train.csv\")\n",
    "YT=pd.read_csv(\"y_train.csv\")"
   ]
  },
  {
   "cell_type": "code",
   "execution_count": 6,
   "metadata": {},
   "outputs": [
    {
     "data": {
      "text/plain": [
       "(1257, 1)"
      ]
     },
     "execution_count": 6,
     "metadata": {},
     "output_type": "execute_result"
    }
   ],
   "source": [
    "XT.shape\n"
   ]
  },
  {
   "cell_type": "code",
   "execution_count": 7,
   "metadata": {},
   "outputs": [
    {
     "data": {
      "text/plain": [
       "(1257, 1)"
      ]
     },
     "execution_count": 7,
     "metadata": {},
     "output_type": "execute_result"
    }
   ],
   "source": [
    "YT.shape\n"
   ]
  },
  {
   "cell_type": "code",
   "execution_count": 8,
   "metadata": {},
   "outputs": [],
   "source": [
    "Xt=pd.read_csv(\"x_test.csv\")"
   ]
  },
  {
   "cell_type": "code",
   "execution_count": 9,
   "metadata": {},
   "outputs": [
    {
     "data": {
      "text/plain": [
       "(19, 1)"
      ]
     },
     "execution_count": 9,
     "metadata": {},
     "output_type": "execute_result"
    }
   ],
   "source": [
    "Xt.shape"
   ]
  },
  {
   "cell_type": "code",
   "execution_count": 10,
   "metadata": {},
   "outputs": [],
   "source": [
    "sc=MinMaxScaler(feature_range=(0,1))"
   ]
  },
  {
   "cell_type": "code",
   "execution_count": 11,
   "metadata": {},
   "outputs": [],
   "source": [
    "XT=sc.fit_transform(XT)\n",
    "YT=sc.transform(YT)"
   ]
  },
  {
   "cell_type": "code",
   "execution_count": 12,
   "metadata": {},
   "outputs": [],
   "source": [
    "XT=np.array(XT)"
   ]
  },
  {
   "cell_type": "code",
   "execution_count": 132,
   "metadata": {},
   "outputs": [],
   "source": [
    "XT=XT.reshape(XT.shape[0],XT.shape[1],1)"
   ]
  },
  {
   "cell_type": "code",
   "execution_count": 142,
   "metadata": {},
   "outputs": [
    {
     "name": "stdout",
     "output_type": "stream",
     "text": [
      "Model: \"sequential_21\"\n",
      "_________________________________________________________________\n",
      "Layer (type)                 Output Shape              Param #   \n",
      "=================================================================\n",
      "lstm_25 (LSTM)               (None, 32)                4352      \n",
      "_________________________________________________________________\n",
      "dense_20 (Dense)             (None, 1)                 33        \n",
      "_________________________________________________________________\n",
      "activation_19 (Activation)   (None, 1)                 0         \n",
      "=================================================================\n",
      "Total params: 4,385\n",
      "Trainable params: 4,385\n",
      "Non-trainable params: 0\n",
      "_________________________________________________________________\n"
     ]
    }
   ],
   "source": [
    "model = Sequential()\n",
    "model.add(LSTM(32,input_shape=(1,1)))\n",
    "model.add(Dense(1))\n",
    "model.add(Activation('softmax'))\n",
    "model.compile(optimizer='adam',loss='mean_squared_error',metrics=['accuracy'])\n",
    "model.summary()\n",
    "\n",
    "model.add(LSTM(100, input_shape= (100,4), return_sequences=True))\n",
    "model.add(Dropout(0.2))\n",
    "model.add(LSTM(50, return_sequences=False))\n",
    "model.add(Dropout(0.2))\n",
    "model.add(Dense(output_dim=1))\n",
    "model.add(Activation('softmax'))\n",
    "\n",
    "model.summary()"
   ]
  },
  {
   "cell_type": "code",
   "execution_count": 143,
   "metadata": {},
   "outputs": [],
   "source": [
    "from keras.callbacks import EarlyStopping\n",
    "from keras.callbacks import ModelCheckpoint\n",
    "\n",
    "checkpoint=ModelCheckpoint(\"model.h5\",monitor='val_loss',verbose=True,save_best_only=True)"
   ]
  },
  {
   "cell_type": "code",
   "execution_count": 144,
   "metadata": {},
   "outputs": [
    {
     "name": "stdout",
     "output_type": "stream",
     "text": [
      "Epoch 1/200\n",
      "1257/1257 [==============================] - 2s 1ms/step - loss: 0.3523 - accuracy: 7.9554e-04\n",
      "Epoch 2/200\n",
      "1257/1257 [==============================] - 0s 204us/step - loss: 0.3523 - accuracy: 7.9554e-04\n",
      "Epoch 3/200\n",
      "1257/1257 [==============================] - 0s 206us/step - loss: 0.3523 - accuracy: 7.9554e-04\n",
      "Epoch 4/200\n",
      "1257/1257 [==============================] - 0s 202us/step - loss: 0.3523 - accuracy: 7.9554e-04\n",
      "Epoch 5/200\n",
      "1257/1257 [==============================] - 0s 201us/step - loss: 0.3523 - accuracy: 7.9554e-04\n",
      "Epoch 6/200\n",
      "1257/1257 [==============================] - 0s 204us/step - loss: 0.3523 - accuracy: 7.9554e-04\n",
      "Epoch 7/200\n",
      "1257/1257 [==============================] - 0s 198us/step - loss: 0.3523 - accuracy: 7.9554e-04\n",
      "Epoch 8/200\n",
      "1257/1257 [==============================] - 0s 215us/step - loss: 0.3523 - accuracy: 7.9554e-04\n",
      "Epoch 9/200\n",
      "1257/1257 [==============================] - 0s 193us/step - loss: 0.3523 - accuracy: 7.9554e-04\n",
      "Epoch 10/200\n",
      "1257/1257 [==============================] - 0s 273us/step - loss: 0.3523 - accuracy: 7.9554e-04\n",
      "Epoch 11/200\n",
      "1257/1257 [==============================] - 0s 226us/step - loss: 0.3523 - accuracy: 7.9554e-04\n",
      "Epoch 12/200\n",
      "1257/1257 [==============================] - 0s 214us/step - loss: 0.3523 - accuracy: 7.9554e-04\n",
      "Epoch 13/200\n",
      "1257/1257 [==============================] - 0s 242us/step - loss: 0.3523 - accuracy: 7.9554e-04\n",
      "Epoch 14/200\n",
      "1257/1257 [==============================] - 0s 233us/step - loss: 0.3523 - accuracy: 7.9554e-04\n",
      "Epoch 15/200\n",
      "1257/1257 [==============================] - 0s 282us/step - loss: 0.3523 - accuracy: 7.9554e-04\n",
      "Epoch 16/200\n",
      "1257/1257 [==============================] - 0s 197us/step - loss: 0.3523 - accuracy: 7.9554e-04\n",
      "Epoch 17/200\n",
      "1257/1257 [==============================] - 0s 202us/step - loss: 0.3523 - accuracy: 7.9554e-04\n",
      "Epoch 18/200\n",
      "1257/1257 [==============================] - 0s 283us/step - loss: 0.3523 - accuracy: 7.9554e-04\n",
      "Epoch 19/200\n",
      "1257/1257 [==============================] - 0s 296us/step - loss: 0.3523 - accuracy: 7.9554e-04\n",
      "Epoch 20/200\n",
      "1257/1257 [==============================] - 0s 278us/step - loss: 0.3523 - accuracy: 7.9554e-04\n",
      "Epoch 21/200\n",
      "1257/1257 [==============================] - 0s 237us/step - loss: 0.3523 - accuracy: 7.9554e-04\n",
      "Epoch 22/200\n",
      "1257/1257 [==============================] - 0s 215us/step - loss: 0.3523 - accuracy: 7.9554e-04\n",
      "Epoch 23/200\n",
      "1257/1257 [==============================] - 0s 211us/step - loss: 0.3523 - accuracy: 7.9554e-04\n",
      "Epoch 24/200\n",
      "1257/1257 [==============================] - 0s 315us/step - loss: 0.3523 - accuracy: 7.9554e-04\n",
      "Epoch 25/200\n",
      "1257/1257 [==============================] - 0s 212us/step - loss: 0.3523 - accuracy: 7.9554e-04\n",
      "Epoch 26/200\n",
      "1257/1257 [==============================] - 0s 254us/step - loss: 0.3523 - accuracy: 7.9554e-04\n",
      "Epoch 27/200\n",
      "1257/1257 [==============================] - 0s 213us/step - loss: 0.3523 - accuracy: 7.9554e-04\n",
      "Epoch 28/200\n",
      "1257/1257 [==============================] - 0s 206us/step - loss: 0.3523 - accuracy: 7.9554e-04\n",
      "Epoch 29/200\n",
      "1257/1257 [==============================] - 0s 207us/step - loss: 0.3523 - accuracy: 7.9554e-04\n",
      "Epoch 30/200\n",
      "1257/1257 [==============================] - 0s 240us/step - loss: 0.3523 - accuracy: 7.9554e-04\n",
      "Epoch 31/200\n",
      "1257/1257 [==============================] - 0s 234us/step - loss: 0.3523 - accuracy: 7.9554e-04\n",
      "Epoch 32/200\n",
      "1257/1257 [==============================] - 0s 188us/step - loss: 0.3523 - accuracy: 7.9554e-04\n",
      "Epoch 33/200\n",
      "1257/1257 [==============================] - 0s 184us/step - loss: 0.3523 - accuracy: 7.9554e-04\n",
      "Epoch 34/200\n",
      "1257/1257 [==============================] - 0s 192us/step - loss: 0.3523 - accuracy: 7.9554e-04\n",
      "Epoch 35/200\n",
      "1257/1257 [==============================] - 0s 202us/step - loss: 0.3523 - accuracy: 7.9554e-04\n",
      "Epoch 36/200\n",
      "1257/1257 [==============================] - 0s 191us/step - loss: 0.3523 - accuracy: 7.9554e-04\n",
      "Epoch 37/200\n",
      "1257/1257 [==============================] - 0s 212us/step - loss: 0.3523 - accuracy: 7.9554e-04\n",
      "Epoch 38/200\n",
      "1257/1257 [==============================] - 0s 221us/step - loss: 0.3523 - accuracy: 7.9554e-04\n",
      "Epoch 39/200\n",
      "1257/1257 [==============================] - 0s 223us/step - loss: 0.3523 - accuracy: 7.9554e-04\n",
      "Epoch 40/200\n",
      "1257/1257 [==============================] - 0s 361us/step - loss: 0.3523 - accuracy: 7.9554e-04\n",
      "Epoch 41/200\n",
      "1257/1257 [==============================] - 1s 409us/step - loss: 0.3523 - accuracy: 7.9554e-04\n",
      "Epoch 42/200\n",
      "1257/1257 [==============================] - 0s 210us/step - loss: 0.3523 - accuracy: 7.9554e-04\n",
      "Epoch 43/200\n",
      "1257/1257 [==============================] - 0s 204us/step - loss: 0.3523 - accuracy: 7.9554e-04\n",
      "Epoch 44/200\n",
      "1257/1257 [==============================] - 0s 273us/step - loss: 0.3523 - accuracy: 7.9554e-04\n",
      "Epoch 45/200\n",
      "1257/1257 [==============================] - 0s 285us/step - loss: 0.3523 - accuracy: 7.9554e-04\n",
      "Epoch 46/200\n",
      "1257/1257 [==============================] - 0s 269us/step - loss: 0.3523 - accuracy: 7.9554e-040s - loss: 0.3492 - accuracy: 0.00\n",
      "Epoch 47/200\n",
      "1257/1257 [==============================] - 0s 212us/step - loss: 0.3523 - accuracy: 7.9554e-04\n",
      "Epoch 48/200\n",
      "1257/1257 [==============================] - 0s 220us/step - loss: 0.3523 - accuracy: 7.9554e-04\n",
      "Epoch 49/200\n",
      "1257/1257 [==============================] - 0s 224us/step - loss: 0.3523 - accuracy: 7.9554e-04\n",
      "Epoch 50/200\n",
      "1257/1257 [==============================] - 0s 281us/step - loss: 0.3523 - accuracy: 7.9554e-04\n",
      "Epoch 51/200\n",
      "1257/1257 [==============================] - 0s 270us/step - loss: 0.3523 - accuracy: 7.9554e-04\n",
      "Epoch 52/200\n",
      "1257/1257 [==============================] - 0s 196us/step - loss: 0.3523 - accuracy: 7.9554e-04\n",
      "Epoch 53/200\n",
      "1257/1257 [==============================] - 0s 215us/step - loss: 0.3523 - accuracy: 7.9554e-04\n",
      "Epoch 54/200\n",
      "1257/1257 [==============================] - 0s 215us/step - loss: 0.3523 - accuracy: 7.9554e-04\n",
      "Epoch 55/200\n",
      "1257/1257 [==============================] - 0s 195us/step - loss: 0.3523 - accuracy: 7.9554e-04\n",
      "Epoch 56/200\n",
      "1257/1257 [==============================] - 0s 205us/step - loss: 0.3523 - accuracy: 7.9554e-04\n",
      "Epoch 57/200\n",
      "1257/1257 [==============================] - ETA: 0s - loss: 0.3571 - accuracy: 8.2237e- - 0s 187us/step - loss: 0.3523 - accuracy: 7.9554e-04\n",
      "Epoch 58/200\n",
      "1257/1257 [==============================] - 0s 231us/step - loss: 0.3523 - accuracy: 7.9554e-04\n",
      "Epoch 59/200\n",
      "1257/1257 [==============================] - 0s 208us/step - loss: 0.3523 - accuracy: 7.9554e-04\n",
      "Epoch 60/200\n",
      "1257/1257 [==============================] - 0s 185us/step - loss: 0.3523 - accuracy: 7.9554e-04\n",
      "Epoch 61/200\n",
      "1257/1257 [==============================] - 0s 180us/step - loss: 0.3523 - accuracy: 7.9554e-040s - loss: 0.3437 - accuracy: 0.00\n",
      "Epoch 62/200\n",
      "1257/1257 [==============================] - 0s 185us/step - loss: 0.3523 - accuracy: 7.9554e-04\n",
      "Epoch 63/200\n",
      "1257/1257 [==============================] - 0s 170us/step - loss: 0.3523 - accuracy: 7.9554e-04\n",
      "Epoch 64/200\n",
      "1257/1257 [==============================] - 0s 196us/step - loss: 0.3523 - accuracy: 7.9554e-04\n",
      "Epoch 65/200\n",
      "1257/1257 [==============================] - 0s 193us/step - loss: 0.3523 - accuracy: 7.9554e-04\n",
      "Epoch 66/200\n",
      "1257/1257 [==============================] - 0s 175us/step - loss: 0.3523 - accuracy: 7.9554e-04\n",
      "Epoch 67/200\n",
      "1257/1257 [==============================] - 0s 169us/step - loss: 0.3523 - accuracy: 7.9554e-04\n",
      "Epoch 68/200\n",
      "1257/1257 [==============================] - 0s 202us/step - loss: 0.3523 - accuracy: 7.9554e-04\n",
      "Epoch 69/200\n",
      "1257/1257 [==============================] - 0s 220us/step - loss: 0.3523 - accuracy: 7.9554e-04\n",
      "Epoch 70/200\n",
      "1257/1257 [==============================] - 0s 199us/step - loss: 0.3523 - accuracy: 7.9554e-04\n",
      "Epoch 71/200\n",
      "1257/1257 [==============================] - 0s 200us/step - loss: 0.3523 - accuracy: 7.9554e-04\n",
      "Epoch 72/200\n",
      "1257/1257 [==============================] - 0s 197us/step - loss: 0.3523 - accuracy: 7.9554e-04\n",
      "Epoch 73/200\n",
      "1257/1257 [==============================] - 0s 307us/step - loss: 0.3523 - accuracy: 7.9554e-04\n",
      "Epoch 74/200\n"
     ]
    },
    {
     "name": "stdout",
     "output_type": "stream",
     "text": [
      "1257/1257 [==============================] - 1s 403us/step - loss: 0.3523 - accuracy: 7.9554e-04\n",
      "Epoch 75/200\n",
      "1257/1257 [==============================] - 0s 244us/step - loss: 0.3523 - accuracy: 7.9554e-04\n",
      "Epoch 76/200\n",
      "1257/1257 [==============================] - 0s 246us/step - loss: 0.3523 - accuracy: 7.9554e-04\n",
      "Epoch 77/200\n",
      "1257/1257 [==============================] - 0s 256us/step - loss: 0.3523 - accuracy: 7.9554e-04\n",
      "Epoch 78/200\n",
      "1257/1257 [==============================] - ETA: 0s - loss: 0.3517 - accuracy: 8.6806e- - 0s 238us/step - loss: 0.3523 - accuracy: 7.9554e-04\n",
      "Epoch 79/200\n",
      "1257/1257 [==============================] - 0s 231us/step - loss: 0.3523 - accuracy: 7.9554e-04\n",
      "Epoch 80/200\n",
      "1257/1257 [==============================] - 0s 247us/step - loss: 0.3523 - accuracy: 7.9554e-040s - loss: 0.3717 - accuracy: \n",
      "Epoch 81/200\n",
      "1257/1257 [==============================] - 0s 259us/step - loss: 0.3523 - accuracy: 7.9554e-04\n",
      "Epoch 82/200\n",
      "1257/1257 [==============================] - 0s 273us/step - loss: 0.3523 - accuracy: 7.9554e-04\n",
      "Epoch 83/200\n",
      "1257/1257 [==============================] - 0s 296us/step - loss: 0.3523 - accuracy: 7.9554e-04\n",
      "Epoch 84/200\n",
      "1257/1257 [==============================] - 0s 387us/step - loss: 0.3523 - accuracy: 7.9554e-04\n",
      "Epoch 85/200\n",
      "1257/1257 [==============================] - 0s 262us/step - loss: 0.3523 - accuracy: 7.9554e-04\n",
      "Epoch 86/200\n",
      "1257/1257 [==============================] - 0s 221us/step - loss: 0.3523 - accuracy: 7.9554e-04\n",
      "Epoch 87/200\n",
      "1257/1257 [==============================] - 0s 389us/step - loss: 0.3523 - accuracy: 7.9554e-04\n",
      "Epoch 88/200\n",
      "1257/1257 [==============================] - 0s 196us/step - loss: 0.3523 - accuracy: 7.9554e-04\n",
      "Epoch 89/200\n",
      "1257/1257 [==============================] - ETA: 0s - loss: 0.3567 - accuracy: 8.9286e- - 0s 192us/step - loss: 0.3523 - accuracy: 7.9554e-04\n",
      "Epoch 90/200\n",
      "1257/1257 [==============================] - 0s 199us/step - loss: 0.3523 - accuracy: 7.9554e-04\n",
      "Epoch 91/200\n",
      "1257/1257 [==============================] - 0s 272us/step - loss: 0.3523 - accuracy: 7.9554e-04\n",
      "Epoch 92/200\n",
      "1257/1257 [==============================] - 0s 224us/step - loss: 0.3523 - accuracy: 7.9554e-04\n",
      "Epoch 93/200\n",
      "1257/1257 [==============================] - 0s 234us/step - loss: 0.3523 - accuracy: 7.9554e-04\n",
      "Epoch 94/200\n",
      "1257/1257 [==============================] - 0s 196us/step - loss: 0.3523 - accuracy: 7.9554e-040s - loss: 0.3649 - accuracy: 0.\n",
      "Epoch 95/200\n",
      "1257/1257 [==============================] - 0s 207us/step - loss: 0.3523 - accuracy: 7.9554e-04\n",
      "Epoch 96/200\n",
      "1257/1257 [==============================] - 0s 187us/step - loss: 0.3523 - accuracy: 7.9554e-04\n",
      "Epoch 97/200\n",
      "1257/1257 [==============================] - 0s 197us/step - loss: 0.3523 - accuracy: 7.9554e-040s - loss: 0.3381 - accuracy: 0.\n",
      "Epoch 98/200\n",
      "1257/1257 [==============================] - 0s 192us/step - loss: 0.3523 - accuracy: 7.9554e-04\n",
      "Epoch 99/200\n",
      "1257/1257 [==============================] - 0s 277us/step - loss: 0.3523 - accuracy: 7.9554e-04\n",
      "Epoch 100/200\n",
      "1257/1257 [==============================] - 0s 211us/step - loss: 0.3523 - accuracy: 7.9554e-04\n",
      "Epoch 101/200\n",
      "1257/1257 [==============================] - 0s 201us/step - loss: 0.3523 - accuracy: 7.9554e-04\n",
      "Epoch 102/200\n",
      "1257/1257 [==============================] - 0s 199us/step - loss: 0.3523 - accuracy: 7.9554e-04\n",
      "Epoch 103/200\n",
      "1257/1257 [==============================] - 0s 189us/step - loss: 0.3523 - accuracy: 7.9554e-04\n",
      "Epoch 104/200\n",
      "1257/1257 [==============================] - 0s 177us/step - loss: 0.3523 - accuracy: 7.9554e-04\n",
      "Epoch 105/200\n",
      "1257/1257 [==============================] - 0s 194us/step - loss: 0.3523 - accuracy: 7.9554e-04\n",
      "Epoch 106/200\n",
      "1257/1257 [==============================] - 0s 215us/step - loss: 0.3523 - accuracy: 7.9554e-04\n",
      "Epoch 107/200\n",
      "1257/1257 [==============================] - 0s 335us/step - loss: 0.3523 - accuracy: 7.9554e-04\n",
      "Epoch 108/200\n",
      "1257/1257 [==============================] - 0s 251us/step - loss: 0.3523 - accuracy: 7.9554e-04\n",
      "Epoch 109/200\n",
      "1257/1257 [==============================] - 0s 228us/step - loss: 0.3523 - accuracy: 7.9554e-04\n",
      "Epoch 110/200\n",
      "1257/1257 [==============================] - 0s 272us/step - loss: 0.3523 - accuracy: 7.9554e-04\n",
      "Epoch 111/200\n",
      "1257/1257 [==============================] - 0s 270us/step - loss: 0.3523 - accuracy: 7.9554e-04\n",
      "Epoch 112/200\n",
      "1257/1257 [==============================] - 0s 210us/step - loss: 0.3523 - accuracy: 7.9554e-04\n",
      "Epoch 113/200\n",
      "1257/1257 [==============================] - 0s 206us/step - loss: 0.3523 - accuracy: 7.9554e-04\n",
      "Epoch 114/200\n",
      "1257/1257 [==============================] - 1s 405us/step - loss: 0.3523 - accuracy: 7.9554e-04\n",
      "Epoch 115/200\n",
      "1257/1257 [==============================] - 0s 308us/step - loss: 0.3523 - accuracy: 7.9554e-04\n",
      "Epoch 116/200\n",
      "1257/1257 [==============================] - 0s 196us/step - loss: 0.3523 - accuracy: 7.9554e-04\n",
      "Epoch 117/200\n",
      "1257/1257 [==============================] - 0s 204us/step - loss: 0.3523 - accuracy: 7.9554e-04\n",
      "Epoch 118/200\n",
      "1257/1257 [==============================] - 0s 228us/step - loss: 0.3523 - accuracy: 7.9554e-04\n",
      "Epoch 119/200\n",
      "1257/1257 [==============================] - 0s 234us/step - loss: 0.3523 - accuracy: 7.9554e-04\n",
      "Epoch 120/200\n",
      "1257/1257 [==============================] - 0s 235us/step - loss: 0.3523 - accuracy: 7.9554e-04\n",
      "Epoch 121/200\n",
      "1257/1257 [==============================] - 0s 199us/step - loss: 0.3523 - accuracy: 7.9554e-04\n",
      "Epoch 122/200\n",
      "1257/1257 [==============================] - 0s 204us/step - loss: 0.3523 - accuracy: 7.9554e-04\n",
      "Epoch 123/200\n",
      "1257/1257 [==============================] - 0s 246us/step - loss: 0.3523 - accuracy: 7.9554e-04\n",
      "Epoch 124/200\n",
      "1257/1257 [==============================] - 0s 190us/step - loss: 0.3523 - accuracy: 7.9554e-04\n",
      "Epoch 125/200\n",
      "1257/1257 [==============================] - 0s 195us/step - loss: 0.3523 - accuracy: 7.9554e-04\n",
      "Epoch 126/200\n",
      "1257/1257 [==============================] - 0s 218us/step - loss: 0.3523 - accuracy: 7.9554e-04\n",
      "Epoch 127/200\n",
      "1257/1257 [==============================] - 0s 183us/step - loss: 0.3523 - accuracy: 7.9554e-04\n",
      "Epoch 128/200\n",
      "1257/1257 [==============================] - 0s 236us/step - loss: 0.3523 - accuracy: 7.9554e-04\n",
      "Epoch 129/200\n",
      "1257/1257 [==============================] - 0s 218us/step - loss: 0.3523 - accuracy: 7.9554e-04\n",
      "Epoch 130/200\n",
      "1257/1257 [==============================] - 0s 194us/step - loss: 0.3523 - accuracy: 7.9554e-04\n",
      "Epoch 131/200\n",
      "1257/1257 [==============================] - 0s 181us/step - loss: 0.3523 - accuracy: 7.9554e-04\n",
      "Epoch 132/200\n",
      "1257/1257 [==============================] - 0s 198us/step - loss: 0.3523 - accuracy: 7.9554e-04\n",
      "Epoch 133/200\n",
      "1257/1257 [==============================] - 0s 300us/step - loss: 0.3523 - accuracy: 7.9554e-04\n",
      "Epoch 134/200\n",
      "1257/1257 [==============================] - 0s 196us/step - loss: 0.3523 - accuracy: 7.9554e-04\n",
      "Epoch 135/200\n",
      "1257/1257 [==============================] - 0s 250us/step - loss: 0.3523 - accuracy: 7.9554e-04\n",
      "Epoch 136/200\n",
      "1257/1257 [==============================] - 0s 244us/step - loss: 0.3523 - accuracy: 7.9554e-04\n",
      "Epoch 137/200\n",
      "1257/1257 [==============================] - 0s 260us/step - loss: 0.3523 - accuracy: 7.9554e-04\n",
      "Epoch 138/200\n",
      "1257/1257 [==============================] - 0s 248us/step - loss: 0.3523 - accuracy: 7.9554e-04\n",
      "Epoch 139/200\n",
      "1257/1257 [==============================] - 0s 264us/step - loss: 0.3523 - accuracy: 7.9554e-04\n",
      "Epoch 140/200\n",
      "1257/1257 [==============================] - 0s 230us/step - loss: 0.3523 - accuracy: 7.9554e-04\n",
      "Epoch 141/200\n",
      "1257/1257 [==============================] - 0s 265us/step - loss: 0.3523 - accuracy: 7.9554e-04\n",
      "Epoch 142/200\n",
      "1257/1257 [==============================] - 0s 334us/step - loss: 0.3523 - accuracy: 7.9554e-04\n",
      "Epoch 143/200\n",
      "1257/1257 [==============================] - 0s 225us/step - loss: 0.3523 - accuracy: 7.9554e-04\n",
      "Epoch 144/200\n",
      "1257/1257 [==============================] - 0s 183us/step - loss: 0.3523 - accuracy: 7.9554e-04\n",
      "Epoch 145/200\n",
      "1257/1257 [==============================] - 0s 207us/step - loss: 0.3523 - accuracy: 7.9554e-04\n",
      "Epoch 146/200\n"
     ]
    },
    {
     "name": "stdout",
     "output_type": "stream",
     "text": [
      "1257/1257 [==============================] - 0s 198us/step - loss: 0.3523 - accuracy: 7.9554e-04\n",
      "Epoch 147/200\n",
      "1257/1257 [==============================] - 0s 187us/step - loss: 0.3523 - accuracy: 7.9554e-04\n",
      "Epoch 148/200\n",
      "1257/1257 [==============================] - 0s 193us/step - loss: 0.3523 - accuracy: 7.9554e-04\n",
      "Epoch 149/200\n",
      "1257/1257 [==============================] - 0s 188us/step - loss: 0.3523 - accuracy: 7.9554e-04\n",
      "Epoch 150/200\n",
      "1257/1257 [==============================] - 0s 196us/step - loss: 0.3523 - accuracy: 7.9554e-04\n",
      "Epoch 151/200\n",
      "1257/1257 [==============================] - 0s 190us/step - loss: 0.3523 - accuracy: 7.9554e-04\n",
      "Epoch 152/200\n",
      "1257/1257 [==============================] - 0s 178us/step - loss: 0.3523 - accuracy: 7.9554e-04\n",
      "Epoch 153/200\n",
      "1257/1257 [==============================] - 0s 198us/step - loss: 0.3523 - accuracy: 7.9554e-04\n",
      "Epoch 154/200\n",
      "1257/1257 [==============================] - 0s 169us/step - loss: 0.3523 - accuracy: 7.9554e-04\n",
      "Epoch 155/200\n",
      "1257/1257 [==============================] - 0s 230us/step - loss: 0.3523 - accuracy: 7.9554e-04\n",
      "Epoch 156/200\n",
      "1257/1257 [==============================] - 0s 166us/step - loss: 0.3523 - accuracy: 7.9554e-04\n",
      "Epoch 157/200\n",
      "1257/1257 [==============================] - 0s 170us/step - loss: 0.3523 - accuracy: 7.9554e-04\n",
      "Epoch 158/200\n",
      "1257/1257 [==============================] - 0s 184us/step - loss: 0.3523 - accuracy: 7.9554e-04\n",
      "Epoch 159/200\n",
      "1257/1257 [==============================] - 0s 172us/step - loss: 0.3523 - accuracy: 7.9554e-04\n",
      "Epoch 160/200\n",
      "1257/1257 [==============================] - 0s 166us/step - loss: 0.3523 - accuracy: 7.9554e-04\n",
      "Epoch 161/200\n",
      "1257/1257 [==============================] - 0s 204us/step - loss: 0.3523 - accuracy: 7.9554e-04\n",
      "Epoch 162/200\n",
      "1257/1257 [==============================] - 0s 231us/step - loss: 0.3523 - accuracy: 7.9554e-04\n",
      "Epoch 163/200\n",
      "1257/1257 [==============================] - 0s 240us/step - loss: 0.3523 - accuracy: 7.9554e-04\n",
      "Epoch 164/200\n",
      "1257/1257 [==============================] - 0s 245us/step - loss: 0.3523 - accuracy: 7.9554e-04\n",
      "Epoch 165/200\n",
      "1257/1257 [==============================] - 0s 220us/step - loss: 0.3523 - accuracy: 7.9554e-04\n",
      "Epoch 166/200\n",
      "1257/1257 [==============================] - 0s 200us/step - loss: 0.3523 - accuracy: 7.9554e-04\n",
      "Epoch 167/200\n",
      "1257/1257 [==============================] - 0s 193us/step - loss: 0.3523 - accuracy: 7.9554e-04\n",
      "Epoch 168/200\n",
      "1257/1257 [==============================] - 0s 246us/step - loss: 0.3523 - accuracy: 7.9554e-04\n",
      "Epoch 169/200\n",
      "1257/1257 [==============================] - 0s 264us/step - loss: 0.3523 - accuracy: 7.9554e-04\n",
      "Epoch 170/200\n",
      "1257/1257 [==============================] - 0s 210us/step - loss: 0.3523 - accuracy: 7.9554e-04\n",
      "Epoch 171/200\n",
      "1257/1257 [==============================] - 0s 179us/step - loss: 0.3523 - accuracy: 7.9554e-04\n",
      "Epoch 172/200\n",
      "1257/1257 [==============================] - 0s 235us/step - loss: 0.3523 - accuracy: 7.9554e-04\n",
      "Epoch 173/200\n",
      "1257/1257 [==============================] - 0s 186us/step - loss: 0.3523 - accuracy: 7.9554e-04\n",
      "Epoch 174/200\n",
      "1257/1257 [==============================] - 0s 232us/step - loss: 0.3523 - accuracy: 7.9554e-04\n",
      "Epoch 175/200\n",
      "1257/1257 [==============================] - 0s 175us/step - loss: 0.3523 - accuracy: 7.9554e-04\n",
      "Epoch 176/200\n",
      "1257/1257 [==============================] - 0s 200us/step - loss: 0.3523 - accuracy: 7.9554e-04\n",
      "Epoch 177/200\n",
      "1257/1257 [==============================] - 0s 205us/step - loss: 0.3523 - accuracy: 7.9554e-04\n",
      "Epoch 178/200\n",
      "1257/1257 [==============================] - 0s 192us/step - loss: 0.3523 - accuracy: 7.9554e-04\n",
      "Epoch 179/200\n",
      "1257/1257 [==============================] - 0s 188us/step - loss: 0.3523 - accuracy: 7.9554e-04\n",
      "Epoch 180/200\n",
      "1257/1257 [==============================] - 0s 192us/step - loss: 0.3523 - accuracy: 7.9554e-04\n",
      "Epoch 181/200\n",
      "1257/1257 [==============================] - 0s 194us/step - loss: 0.3523 - accuracy: 7.9554e-04\n",
      "Epoch 182/200\n",
      "1257/1257 [==============================] - 0s 193us/step - loss: 0.3523 - accuracy: 7.9554e-04\n",
      "Epoch 183/200\n",
      "1257/1257 [==============================] - 0s 191us/step - loss: 0.3523 - accuracy: 7.9554e-04\n",
      "Epoch 184/200\n",
      "1257/1257 [==============================] - 0s 199us/step - loss: 0.3523 - accuracy: 7.9554e-04\n",
      "Epoch 185/200\n",
      "1257/1257 [==============================] - 0s 208us/step - loss: 0.3523 - accuracy: 7.9554e-04\n",
      "Epoch 186/200\n",
      "1257/1257 [==============================] - 0s 204us/step - loss: 0.3523 - accuracy: 7.9554e-04\n",
      "Epoch 187/200\n",
      "1257/1257 [==============================] - 0s 200us/step - loss: 0.3523 - accuracy: 7.9554e-04\n",
      "Epoch 188/200\n",
      "1257/1257 [==============================] - 0s 194us/step - loss: 0.3523 - accuracy: 7.9554e-04\n",
      "Epoch 189/200\n",
      "1257/1257 [==============================] - 0s 193us/step - loss: 0.3523 - accuracy: 7.9554e-04\n",
      "Epoch 190/200\n",
      "1257/1257 [==============================] - 0s 220us/step - loss: 0.3523 - accuracy: 7.9554e-04\n",
      "Epoch 191/200\n",
      "1257/1257 [==============================] - 0s 208us/step - loss: 0.3523 - accuracy: 7.9554e-04\n",
      "Epoch 192/200\n",
      "1257/1257 [==============================] - 0s 195us/step - loss: 0.3523 - accuracy: 7.9554e-04\n",
      "Epoch 193/200\n",
      "1257/1257 [==============================] - 0s 172us/step - loss: 0.3523 - accuracy: 7.9554e-04\n",
      "Epoch 194/200\n",
      "1257/1257 [==============================] - 0s 194us/step - loss: 0.3523 - accuracy: 7.9554e-04\n",
      "Epoch 195/200\n",
      "1257/1257 [==============================] - 0s 231us/step - loss: 0.3523 - accuracy: 7.9554e-04\n",
      "Epoch 196/200\n",
      "1257/1257 [==============================] - 0s 248us/step - loss: 0.3523 - accuracy: 7.9554e-04\n",
      "Epoch 197/200\n",
      "1257/1257 [==============================] - 1s 411us/step - loss: 0.3523 - accuracy: 7.9554e-040s - loss: 0.3540 - accuracy: \n",
      "Epoch 198/200\n",
      "1257/1257 [==============================] - 1s 486us/step - loss: 0.3523 - accuracy: 7.9554e-04\n",
      "Epoch 199/200\n",
      "1257/1257 [==============================] - 0s 368us/step - loss: 0.3523 - accuracy: 7.9554e-04\n",
      "Epoch 200/200\n",
      "1257/1257 [==============================] - 0s 232us/step - loss: 0.3523 - accuracy: 7.9554e-04\n"
     ]
    }
   ],
   "source": [
    "hist=model.fit(XT,YT,epochs=200,callbacks=[checkpoint])"
   ]
  },
  {
   "cell_type": "code",
   "execution_count": 145,
   "metadata": {},
   "outputs": [
    {
     "data": {
      "image/png": "[encoded data removed]",
      "text/plain": [
       "<Figure size 432x288 with 1 Axes>"
      ]
     },
     "metadata": {
      "needs_background": "light"
     },
     "output_type": "display_data"
    }
   ],
   "source": [
    "train_loss=hist.history[\"loss\"]\n",
    "plt.plot(train_loss,label=\"loss\")\n",
    "\n",
    "plt.legend()\n",
    "plt.show()"
   ]
  },
  {
   "cell_type": "code",
   "execution_count": 89,
   "metadata": {},
   "outputs": [],
   "source": [
    "model.load_weights(\"model.h5\")"
   ]
  },
  {
   "cell_type": "code",
   "execution_count": 91,
   "metadata": {},
   "outputs": [
    {
     "name": "stdout",
     "output_type": "stream",
     "text": [
      "1257/1257 [==============================] - 0s 108us/step\n"
     ]
    },
    {
     "data": {
      "text/plain": [
       "[0.3523079753003558, 0.0007955449400469661]"
      ]
     },
     "execution_count": 91,
     "metadata": {},
     "output_type": "execute_result"
    }
   ],
   "source": [
    "model.evaluate(XT,YT)"
   ]
  },
  {
   "cell_type": "code",
   "execution_count": 92,
   "metadata": {},
   "outputs": [],
   "source": [
    "sc1=MinMaxScaler(feature_range=(0,1))"
   ]
  },
  {
   "cell_type": "code",
   "execution_count": 93,
   "metadata": {},
   "outputs": [],
   "source": [
    "Xt=sc1.fit_transform(Xt)"
   ]
  },
  {
   "cell_type": "code",
   "execution_count": 94,
   "metadata": {},
   "outputs": [],
   "source": [
    "Xt=np.array(Xt)\n",
    "Xt=Xt.reshape(Xt.shape[0],Xt.shape[1],1)"
   ]
  },
  {
   "cell_type": "code",
   "execution_count": 95,
   "metadata": {},
   "outputs": [
    {
     "data": {
      "text/plain": [
       "(19, 1, 1)"
      ]
     },
     "execution_count": 95,
     "metadata": {},
     "output_type": "execute_result"
    }
   ],
   "source": [
    "Xt.shape"
   ]
  },
  {
   "cell_type": "code",
   "execution_count": 96,
   "metadata": {},
   "outputs": [],
   "source": [
    "p=model.predict(Xt)"
   ]
  },
  {
   "cell_type": "code",
   "execution_count": 97,
   "metadata": {},
   "outputs": [],
   "source": [
    "\n",
    "p=sc1.inverse_transform(p)"
   ]
  },
  {
   "cell_type": "code",
   "execution_count": 98,
   "metadata": {},
   "outputs": [
    {
     "data": {
      "text/plain": [
       "array([[841.94995],\n",
       "       [841.94995],\n",
       "       [841.94995],\n",
       "       [841.94995],\n",
       "       [841.94995],\n",
       "       [841.94995],\n",
       "       [841.94995],\n",
       "       [841.94995],\n",
       "       [841.94995],\n",
       "       [841.94995],\n",
       "       [841.94995],\n",
       "       [841.94995],\n",
       "       [841.94995],\n",
       "       [841.94995],\n",
       "       [841.94995],\n",
       "       [841.94995],\n",
       "       [841.94995],\n",
       "       [841.94995],\n",
       "       [841.94995]], dtype=float32)"
      ]
     },
     "execution_count": 98,
     "metadata": {},
     "output_type": "execute_result"
    }
   ],
   "source": [
    "p"
   ]
  },
  {
   "cell_type": "code",
   "execution_count": 100,
   "metadata": {},
   "outputs": [
    {
     "data": {
      "text/plain": [
       "(19, 1)"
      ]
     },
     "execution_count": 100,
     "metadata": {},
     "output_type": "execute_result"
    }
   ],
   "source": [
    "p.shape"
   ]
  },
  {
   "cell_type": "code",
   "execution_count": 101,
   "metadata": {},
   "outputs": [],
   "source": [
    "pred=pd.DataFrame(p,columns=[\"High\"])"
   ]
  },
  {
   "cell_type": "code",
   "execution_count": 103,
   "metadata": {},
   "outputs": [
    {
     "data": {
      "text/html": [
       "<div>\n",
       "<style scoped>\n",
       "    .dataframe tbody tr th:only-of-type {\n",
       "        vertical-align: middle;\n",
       "    }\n",
       "\n",
       "    .dataframe tbody tr th {\n",
       "        vertical-align: top;\n",
       "    }\n",
       "\n",
       "    .dataframe thead th {\n",
       "        text-align: right;\n",
       "    }\n",
       "</style>\n",
       "<table border=\"1\" class=\"dataframe\">\n",
       "  <thead>\n",
       "    <tr style=\"text-align: right;\">\n",
       "      <th></th>\n",
       "      <th>High</th>\n",
       "    </tr>\n",
       "  </thead>\n",
       "  <tbody>\n",
       "    <tr>\n",
       "      <th>0</th>\n",
       "      <td>841.949951</td>\n",
       "    </tr>\n",
       "    <tr>\n",
       "      <th>1</th>\n",
       "      <td>841.949951</td>\n",
       "    </tr>\n",
       "    <tr>\n",
       "      <th>2</th>\n",
       "      <td>841.949951</td>\n",
       "    </tr>\n",
       "    <tr>\n",
       "      <th>3</th>\n",
       "      <td>841.949951</td>\n",
       "    </tr>\n",
       "    <tr>\n",
       "      <th>4</th>\n",
       "      <td>841.949951</td>\n",
       "    </tr>\n",
       "    <tr>\n",
       "      <th>5</th>\n",
       "      <td>841.949951</td>\n",
       "    </tr>\n",
       "    <tr>\n",
       "      <th>6</th>\n",
       "      <td>841.949951</td>\n",
       "    </tr>\n",
       "    <tr>\n",
       "      <th>7</th>\n",
       "      <td>841.949951</td>\n",
       "    </tr>\n",
       "    <tr>\n",
       "      <th>8</th>\n",
       "      <td>841.949951</td>\n",
       "    </tr>\n",
       "    <tr>\n",
       "      <th>9</th>\n",
       "      <td>841.949951</td>\n",
       "    </tr>\n",
       "    <tr>\n",
       "      <th>10</th>\n",
       "      <td>841.949951</td>\n",
       "    </tr>\n",
       "    <tr>\n",
       "      <th>11</th>\n",
       "      <td>841.949951</td>\n",
       "    </tr>\n",
       "    <tr>\n",
       "      <th>12</th>\n",
       "      <td>841.949951</td>\n",
       "    </tr>\n",
       "    <tr>\n",
       "      <th>13</th>\n",
       "      <td>841.949951</td>\n",
       "    </tr>\n",
       "    <tr>\n",
       "      <th>14</th>\n",
       "      <td>841.949951</td>\n",
       "    </tr>\n",
       "    <tr>\n",
       "      <th>15</th>\n",
       "      <td>841.949951</td>\n",
       "    </tr>\n",
       "    <tr>\n",
       "      <th>16</th>\n",
       "      <td>841.949951</td>\n",
       "    </tr>\n",
       "    <tr>\n",
       "      <th>17</th>\n",
       "      <td>841.949951</td>\n",
       "    </tr>\n",
       "    <tr>\n",
       "      <th>18</th>\n",
       "      <td>841.949951</td>\n",
       "    </tr>\n",
       "  </tbody>\n",
       "</table>\n",
       "</div>"
      ],
      "text/plain": [
       "          High\n",
       "0   841.949951\n",
       "1   841.949951\n",
       "2   841.949951\n",
       "3   841.949951\n",
       "4   841.949951\n",
       "5   841.949951\n",
       "6   841.949951\n",
       "7   841.949951\n",
       "8   841.949951\n",
       "9   841.949951\n",
       "10  841.949951\n",
       "11  841.949951\n",
       "12  841.949951\n",
       "13  841.949951\n",
       "14  841.949951\n",
       "15  841.949951\n",
       "16  841.949951\n",
       "17  841.949951\n",
       "18  841.949951"
      ]
     },
     "execution_count": 103,
     "metadata": {},
     "output_type": "execute_result"
    }
   ],
   "source": [
    "pred"
   ]
  },
  {
   "cell_type": "code",
   "execution_count": 104,
   "metadata": {},
   "outputs": [],
   "source": [
    "pred.to_csv(\"pred.csv\",index=False)"
   ]
  },
  {
   "cell_type": "code",
   "execution_count": null,
   "metadata": {},
   "outputs": [],
   "source": []
  }
 ],
 "metadata": {
  "kernelspec": {
   "display_name": "Python 3",
   "language": "python",
   "name": "python3"
  },
  "language_info": {
   "codemirror_mode": {
    "name": "ipython",
    "version": 3
   },
   "file_extension": ".py",
   "mimetype": "text/x-python",
   "name": "python",
   "nbconvert_exporter": "python",
   "pygments_lexer": "ipython3",
   "version": "3.7.7"
  }
 },
 "nbformat": 4,
 "nbformat_minor": 4
}
